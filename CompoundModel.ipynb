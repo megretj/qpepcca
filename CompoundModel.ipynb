{
 "cells": [
  {
   "attachments": {},
   "cell_type": "markdown",
   "metadata": {},
   "source": [
    "# Compound model\n",
    "We want to concatenate the different models.\n",
    "For example:\n",
    "\n",
    "Client---[CG]--(RTT:1ms, p = 0.0000001)----Gateway-----------[SAT]---(RTT: 500ms, p=0.0005)----------Terminal----[TS]---(RTT: 25ms, p = 0.0000001)-------Server\n",
    "\n",
    "vs \n",
    "\n",
    "Client---[CS]--(RTT: 526ms,p=0.0005)-------Server"
   ]
  },
  {
   "cell_type": "code",
   "execution_count": 1,
   "metadata": {},
   "outputs": [
    {
     "name": "stdout",
     "output_type": "stream",
     "text": [
      "Intel MKL WARNING: Support of Intel(R) Streaming SIMD Extensions 4.2 (Intel(R) SSE4.2) enabled only processors has been deprecated. Intel oneAPI Math Kernel Library 2025.0 will require Intel(R) Advanced Vector Extensions (Intel(R) AVX) instructions.\n",
      "Intel MKL WARNING: Support of Intel(R) Streaming SIMD Extensions 4.2 (Intel(R) SSE4.2) enabled only processors has been deprecated. Intel oneAPI Math Kernel Library 2025.0 will require Intel(R) Advanced Vector Extensions (Intel(R) AVX) instructions.\n"
     ]
    }
   ],
   "source": [
    "import numpy as np\n",
    "import matplotlib.pyplot as plt\n",
    "import logging, sys\n",
    "from ccaModels import CCA_MarkovChain_CUBIC_OG, CCA_MarkovChain_Hybla_discrete, CCA_MarkovChain_Hybla_OG, CCA_MarkovChain_CUBIC_discrete\n",
    "from ccaModels import ISP_Compound"
   ]
  },
  {
   "cell_type": "code",
   "execution_count": 2,
   "metadata": {},
   "outputs": [
    {
     "name": "stdout",
     "output_type": "stream",
     "text": [
      "Client X-----CG: CUBIC-----X-----SAT: HYBLA-----X-----TQ: CUBIC-----X-----QS: CUBIC-----X Server\n",
      "Bottleneck link and throughput SAT 844.7437203046401\n",
      "Goodput 802.506534289408\n",
      "Time to transfer a 1000MSS file (1Mbyte) 1.2460957727720756\n",
      "_______________________________________________________________\n",
      "Client X-----CG: CUBIC-----X-----SAT: HYBLA-----X-----TS: CUBIC-----X Server\n",
      "Bottleneck link and throughput SAT 844.74372030464\n",
      "Goodput 802.5065342894079\n",
      "Time to transfer a 1000MSS file (1Mbyte) 1.2460957727720756\n",
      "_______________________________________________________________\n",
      "Client X-----CG: CUBIC-----X-----SAT: CUBIC-----X-----TS: CUBIC-----X Server\n",
      "Bottleneck link and throughput SAT 732.0206597774842\n",
      "Goodput 695.4196267886099\n",
      "Time to transfer a 1000MSS file (1Mbyte) 1.437980697522037\n",
      "_______________________________________________________________\n",
      "Client X-----CS: CUBIC-----X Server\n",
      "Bottleneck link and throughput CS 726.0215934302411\n",
      "Goodput 726.0215934302411\n",
      "Time to transfer a 1000MSS file (1Mbyte) 1.3773695011952614\n"
     ]
    }
   ],
   "source": [
    "C = 1000\n",
    "# goodput ratio on the qpep link\n",
    "goodputRatio = 0.95\n",
    "logging.basicConfig(stream=sys.stderr, level=logging.INFO)\n",
    "\n",
    "# CG = CCA_MarkovChain_CUBIC_OG(RTT_real = 0.01,packet_err = 1e-6)\n",
    "# SAT = CCA_MarkovChain_CUBIC_OG(RTT_real = 0.5,packet_err = 1e-4)\n",
    "# TS = CCA_MarkovChain_CUBIC_OG(RTT_real = 0.025, packet_err = 1e-6)\n",
    "\n",
    "CG = CCA_MarkovChain_CUBIC_discrete(RTT_real = 0.01,packet_err = 1e-6)\n",
    "SAT_Hyb = CCA_MarkovChain_Hybla_discrete(RTT_real = 0.5,packet_err = 1e-4, RTT0= 0.025)\n",
    "SAT_Cub = CCA_MarkovChain_CUBIC_discrete(RTT_real = 0.5, packet_err = 1.e-4)\n",
    "TS = CCA_MarkovChain_CUBIC_discrete(RTT_real = 0.025, packet_err = 1e-6)\n",
    "\n",
    "segmented = ISP_Compound(CG=CG,SAT = SAT_Hyb,TQ = TS, QS = TS, goodputRatio = goodputRatio)\n",
    "print(segmented)\n",
    "segmented.compute_throughput()\n",
    "print(\"Bottleneck link and throughput\",segmented.bottleNeck, segmented.min_throughput)\n",
    "print(\"Goodput\", segmented.goodput())\n",
    "print(\"Time to transfer a 1000MSS file (1Mbyte)\", segmented.time_to_transfer(filesize=1000))\n",
    "\n",
    "print(\"_______________________________________________________________\")\n",
    "segmented = ISP_Compound(CG=CG,SAT = SAT_Hyb,TS = TS, goodputRatio = goodputRatio)\n",
    "print(segmented)\n",
    "segmented.compute_throughput()\n",
    "print(\"Bottleneck link and throughput\",segmented.bottleNeck, segmented.min_throughput)\n",
    "print(\"Goodput\", segmented.goodput())\n",
    "print(\"Time to transfer a 1000MSS file (1Mbyte)\", segmented.time_to_transfer(filesize=1000))\n",
    "\n",
    "print(\"_______________________________________________________________\")\n",
    "segmented_cub = ISP_Compound(CG=CG,SAT = SAT_Cub,TS = TS, goodputRatio = goodputRatio)\n",
    "print(segmented_cub)\n",
    "segmented_cub.compute_throughput()\n",
    "print(\"Bottleneck link and throughput\",segmented_cub.bottleNeck, segmented_cub.min_throughput)\n",
    "print(\"Goodput\", segmented_cub.goodput())\n",
    "print(\"Time to transfer a 1000MSS file (1Mbyte)\", segmented_cub.time_to_transfer(filesize=1000))\n",
    "\n",
    "print(\"_______________________________________________________________\")\n",
    "#Full connection\n",
    "CS = CCA_MarkovChain_CUBIC_discrete(RTT_real = 0.535, packet_err = 1.02e-4)\n",
    "direct = ISP_Compound(CS = CS)\n",
    "print(direct)\n",
    "direct.compute_throughput()\n",
    "print(\"Bottleneck link and throughput\",direct.bottleNeck,direct.min_throughput)\n",
    "print(\"Goodput\",direct.goodput())\n",
    "print(\"Time to transfer a 1000MSS file (1Mbyte)\", direct.time_to_transfer(filesize=1000))"
   ]
  },
  {
   "cell_type": "code",
   "execution_count": 3,
   "metadata": {},
   "outputs": [
    {
     "name": "stdout",
     "output_type": "stream",
     "text": [
      "Client X-----CG: CUBIC-----X-----SAT: HYBLA-----X-----TQ: CUBIC-----X-----QS: CUBIC-----X Server\n",
      "Bottleneck link and throughput SAT 844.667911794796\n",
      "Goodput 802.4345162050562\n",
      "Time to transfer a 1000MSS file (1Mbyte) 1.246207609225595\n",
      "_______________________________________________________________\n",
      "Client X-----CG: CUBIC-----X-----SAT: HYBLA-----X-----TS: CUBIC-----X Server\n",
      "Bottleneck link and throughput SAT 844.667911794796\n",
      "Goodput 802.4345162050562\n",
      "Time to transfer a 1000MSS file (1Mbyte) 1.246207609225595\n",
      "_______________________________________________________________\n",
      "Client X-----CG: CUBIC-----X-----SAT: CUBIC-----X-----TS: CUBIC-----X Server\n",
      "Bottleneck link and throughput SAT 796.1667895032477\n",
      "Goodput 756.3584500280854\n",
      "Time to transfer a 1000MSS file (1Mbyte) 1.3221244503355092\n",
      "_______________________________________________________________\n",
      "Client X-----CS: CUBIC-----X Server\n",
      "Bottleneck link and throughput CS 783.4946736012189\n",
      "Goodput 783.4946736012189\n",
      "Time to transfer a 1000MSS file (1Mbyte) 1.2763328631241946\n"
     ]
    }
   ],
   "source": [
    "# LEO comparison\n",
    "C = 1000\n",
    "# goodput ratio on the qpep link\n",
    "goodputRatio = 0.95\n",
    "logging.basicConfig(stream=sys.stderr, level=logging.INFO)\n",
    "\n",
    "# CG = CCA_MarkovChain_CUBIC_OG(RTT_real = 0.01,packet_err = 1e-6)\n",
    "# SAT = CCA_MarkovChain_CUBIC_OG(RTT_real = 0.5,packet_err = 1e-4)\n",
    "# TS = CCA_MarkovChain_CUBIC_OG(RTT_real = 0.025, packet_err = 1e-6)\n",
    "\n",
    "CG = CCA_MarkovChain_CUBIC_discrete(RTT_real = 0.01,packet_err = 1e-6)\n",
    "SAT_Hyb = CCA_MarkovChain_Hybla_discrete(RTT_real = 0.1,packet_err = 1e-4, RTT0= 0.025)\n",
    "SAT_Cub = CCA_MarkovChain_CUBIC_discrete(RTT_real = 0.1, packet_err = 1.e-4)\n",
    "TS = CCA_MarkovChain_CUBIC_discrete(RTT_real = 0.025, packet_err = 1e-6)\n",
    "\n",
    "segmented = ISP_Compound(CG=CG,SAT = SAT_Hyb,TQ = TS, QS = TS, goodputRatio = goodputRatio)\n",
    "print(segmented)\n",
    "segmented.compute_throughput()\n",
    "print(\"Bottleneck link and throughput\",segmented.bottleNeck, segmented.min_throughput)\n",
    "print(\"Goodput\", segmented.goodput())\n",
    "print(\"Time to transfer a 1000MSS file (1Mbyte)\", segmented.time_to_transfer(filesize=1000))\n",
    "\n",
    "print(\"_______________________________________________________________\")\n",
    "segmented = ISP_Compound(CG=CG,SAT = SAT_Hyb,TS = TS, goodputRatio = goodputRatio)\n",
    "print(segmented)\n",
    "segmented.compute_throughput()\n",
    "print(\"Bottleneck link and throughput\",segmented.bottleNeck, segmented.min_throughput)\n",
    "print(\"Goodput\", segmented.goodput())\n",
    "print(\"Time to transfer a 1000MSS file (1Mbyte)\", segmented.time_to_transfer(filesize=1000))\n",
    "\n",
    "print(\"_______________________________________________________________\")\n",
    "segmented_cub = ISP_Compound(CG=CG,SAT = SAT_Cub,TS = TS, goodputRatio = goodputRatio)\n",
    "print(segmented_cub)\n",
    "segmented_cub.compute_throughput()\n",
    "print(\"Bottleneck link and throughput\",segmented_cub.bottleNeck, segmented_cub.min_throughput)\n",
    "print(\"Goodput\", segmented_cub.goodput())\n",
    "print(\"Time to transfer a 1000MSS file (1Mbyte)\", segmented_cub.time_to_transfer(filesize=1000))\n",
    "\n",
    "print(\"_______________________________________________________________\")\n",
    "#Full connection\n",
    "CS = CCA_MarkovChain_CUBIC_discrete(RTT_real = 0.135, packet_err = 1.02e-4)\n",
    "direct = ISP_Compound(CS = CS)\n",
    "print(direct)\n",
    "direct.compute_throughput()\n",
    "print(\"Bottleneck link and throughput\",direct.bottleNeck,direct.min_throughput)\n",
    "print(\"Goodput\",direct.goodput())\n",
    "print(\"Time to transfer a 1000MSS file (1Mbyte)\", direct.time_to_transfer(filesize=1000))"
   ]
  },
  {
   "cell_type": "code",
   "execution_count": null,
   "metadata": {},
   "outputs": [],
   "source": []
  }
 ],
 "metadata": {
  "kernelspec": {
   "display_name": "qpepcca",
   "language": "python",
   "name": "python3"
  },
  "language_info": {
   "codemirror_mode": {
    "name": "ipython",
    "version": 3
   },
   "file_extension": ".py",
   "mimetype": "text/x-python",
   "name": "python",
   "nbconvert_exporter": "python",
   "pygments_lexer": "ipython3",
   "version": "3.11.3"
  },
  "orig_nbformat": 4
 },
 "nbformat": 4,
 "nbformat_minor": 2
}
