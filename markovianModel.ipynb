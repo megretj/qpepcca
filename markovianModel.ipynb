{
 "cells": [
  {
   "attachments": {},
   "cell_type": "markdown",
   "metadata": {},
   "source": [
    "# Markovian Model for steady-state throughput CUBIC and Hybla\n",
    "Based on the paper by Bao Wong and Leung.\n",
    "First we try to replicate their model"
   ]
  },
  {
   "cell_type": "code",
   "execution_count": 2,
   "metadata": {},
   "outputs": [],
   "source": [
    "import numpy as np\n",
    "\n",
    "N = 100 # Resolution of the discretisation\n",
    "K = 100 # Total simulation time.\n"
   ]
  },
  {
   "attachments": {},
   "cell_type": "markdown",
   "metadata": {},
   "source": [
    "First we try to just compute different stationnary distributions for different parameters."
   ]
  },
  {
   "cell_type": "code",
   "execution_count": null,
   "metadata": {},
   "outputs": [],
   "source": [
    "class CCA_CUBIC_MarkovChain:\n",
    "    def __init__(self, N=100, W = 1, trans_err = 0.01) -> None:\n",
    "        self.N = N\n",
    "        self.W = W\n",
    "        self.trans_err = trans_err\n",
    "        self.M = np.zeros(N)\n",
    "        self.pi = np.ones(N)/N # Stationnary distribution\n",
    "\n",
    "    def transition_proba_cubic(i,j):\n",
    "        return np.exp(-self.trans_err)#fill in the forumla"
   ]
  }
 ],
 "metadata": {
  "kernelspec": {
   "display_name": "base",
   "language": "python",
   "name": "python3"
  },
  "language_info": {
   "codemirror_mode": {
    "name": "ipython",
    "version": 3
   },
   "file_extension": ".py",
   "mimetype": "text/x-python",
   "name": "python",
   "nbconvert_exporter": "python",
   "pygments_lexer": "ipython3",
   "version": "3.8.13"
  },
  "orig_nbformat": 4
 },
 "nbformat": 4,
 "nbformat_minor": 2
}
