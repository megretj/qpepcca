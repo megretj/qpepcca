{
 "cells": [
  {
   "cell_type": "markdown",
   "metadata": {},
   "source": [
    "# QPEP analysis\n",
    "\n",
    "This notebook looks at the results from the qpep performance analysis in the opensand testbed."
   ]
  },
  {
   "cell_type": "code",
   "execution_count": 34,
   "metadata": {},
   "outputs": [],
   "source": [
    "import numpy as np\n",
    "import matplotlib.pyplot as plt\n",
    "import pickle, os\n",
    "import re"
   ]
  },
  {
   "cell_type": "code",
   "execution_count": 13,
   "metadata": {},
   "outputs": [
    {
     "name": "stdout",
     "output_type": "stream",
     "text": [
      "[318044000.0, 3870330000.0, 2069210000.0, 6771160.0, 5654490.0, 5128020.0]\n"
     ]
    }
   ],
   "source": [
    "file = open('qpep_results/iperf_results/iperf_50err.data','rb')\n",
    "data = pickle.load(file)\n",
    "file.close()\n",
    "print(data['iperf_0.1mb']['sent_bps'])"
   ]
  },
  {
   "cell_type": "code",
   "execution_count": 18,
   "metadata": {},
   "outputs": [
    {
     "name": "stdout",
     "output_type": "stream",
     "text": [
      "{'streams': [{'sender': {'socket': 4, 'start': 0, 'end': 88.7207, 'seconds': 88.7207, 'bytes': 11319016, 'bits_per_second': 1020640.0, 'retransmits': 0}, 'receiver': {'socket': 4, 'start': 0, 'end': 88.7207, 'seconds': 88.7207, 'bytes': 10132408, 'bits_per_second': 913646}}], 'sum_sent': {'start': 0, 'end': 88.7207, 'seconds': 88.7207, 'bytes': 11319016, 'bits_per_second': 1020640.0, 'retransmits': 0}, 'sum_received': {'start': 0, 'end': 88.7207, 'seconds': 88.7207, 'bytes': 10132408, 'bits_per_second': 913646}, 'cpu_utilization_percent': {'host_total': 0.555172, 'host_user': 0.204351, 'host_system': 0.350825, 'remote_total': 0.0097447, 'remote_user': 0.00546568, 'remote_system': 0.00427903}}\n"
     ]
    }
   ],
   "source": [
    "file = open('qpep_results/raw_results10000000.0.data','rb')\n",
    "data = pickle.load(file)\n",
    "file.close()\n",
    "print(data['end'])"
   ]
  },
  {
   "cell_type": "markdown",
   "metadata": {},
   "source": [
    "I want to plot throughput (i.e. sent bps) against: delays or plr (on two different plots). On the same plot, we have qpep and plain for the 3 different file sizes. Put confidence intervals around the datapoints of one of the file sizes. Repeat for different bottleneck bandwidths.\n",
    "\n",
    "I should create a dictionnary with\n",
    "```bash\n",
    "bandwidths\n",
    "|-plr\n",
    "|--delay\n",
    "|---filesize [10kbps,100kbps,10mbps]\n",
    "```\n"
   ]
  },
  {
   "cell_type": "code",
   "execution_count": 26,
   "metadata": {},
   "outputs": [
    {
     "name": "stdout",
     "output_type": "stream",
     "text": [
      "{'iperf_0.01mb': {'sent_bytes': [6553600, 7864320, 7864320, 7864320, 7864320], 'sent_bps': [368964000000.0, 552056000000.0, 405974000000.0, 395626000000.0, 431181000000.0], 'received_bytes': [212553, 341171, 491520, 503773, 372701], 'received_bps': [11966600000.0, 23949400000.0, 25373300000.0, 25343100000.0, 20434300000.0]}, 'iperf_0.1mb': {'sent_bytes': [6553600, 7864320, 7864320, 7864320, 7864320], 'sent_bps': [4574150000.0, 414259000000.0, 372190000000.0, 3898980000.0, 495090000000.0], 'received_bytes': [233057, 367810, 502547, 493972, 370249], 'received_bps': [162664000.0, 19374700000.0, 23783800000.0, 244902000.0, 23308600000.0]}, 'iperf_10.0mb': {'sent_bytes': [18350080, 18350080, 18350080, 18350080, 18350080], 'sent_bps': [17736800.0, 17776000.0, 17736100.0, 17733400.0, 17696500.0], 'received_bytes': [10262511, 10393591, 10393586, 10262514, 10393586], 'received_bps': [9919550.0, 10068500.0, 10045800.0, 9917620.0, 10023400.0]}}\n"
     ]
    }
   ],
   "source": [
    "file = open('../qpep/opensand-testbed/results/qpep_iperf_0.01plr_10000.0kbps_100ms_.data','rb')\n",
    "data = pickle.load(file)\n",
    "file.close()\n",
    "print(data)"
   ]
  },
  {
   "cell_type": "code",
   "execution_count": 37,
   "metadata": {},
   "outputs": [],
   "source": [
    "def average_bps(file_path):\n",
    "    try:\n",
    "        data = np.loadtxt(file_path)\n",
    "        # only take values after time is more than 100\n",
    "        return np.average(data[data[:,0] > 100])\n",
    "    except: \n",
    "        return 0\n",
    "\n",
    "def get_error(file_path):\n",
    "    match = re.search(r\"_([.\\d]*)plr_\", file_path)\n",
    "    if not match: \n",
    "        print(f\"Error: Error not found in {file_path}\")\n",
    "        return None\n",
    "    return float(match.group(1))/100\n",
    "\n",
    "def get_delay(file_path):\n",
    "    match = re.search(r\"_(\\d+?\\.\\d+?)ms_\",file_path)\n",
    "    if not match: \n",
    "        print(f\"Error: Delay not found in {file_path}\")\n",
    "        return None\n",
    "    return match.group(1)\n",
    "\n",
    "def get_bandwidth(file_path):\n",
    "    match = re.search(r\"_(\\d+?.\\d+?kbps)_\",file_path)\n",
    "    if not match: \n",
    "        print(f\"Error: Bandwidth not found in {file_path}\")\n",
    "        return None\n",
    "    return match.group(1)"
   ]
  },
  {
   "cell_type": "code",
   "execution_count": 41,
   "metadata": {},
   "outputs": [
    {
     "name": "stdout",
     "output_type": "stream",
     "text": [
      "Error: Delay not found in ./qpep_results/18.08.23/qpep_iperf/qpep_iperf_1plr_700.0kbps_50ms_.data\n",
      "[951869000.0, 239894000.0, 238808000.0, 239425000.0, 239330000.0]\n"
     ]
    },
    {
     "ename": "TypeError",
     "evalue": "list indices must be integers or slices, not str",
     "output_type": "error",
     "traceback": [
      "\u001b[0;31m---------------------------------------------------------------------------\u001b[0m",
      "\u001b[0;31mTypeError\u001b[0m                                 Traceback (most recent call last)",
      "Cell \u001b[0;32mIn[41], line 30\u001b[0m\n\u001b[1;32m     28\u001b[0m     \u001b[39mfor\u001b[39;00m filesize \u001b[39min\u001b[39;00m data\u001b[39m.\u001b[39mkeys():\n\u001b[1;32m     29\u001b[0m         \u001b[39mprint\u001b[39m(data[filesize][\u001b[39m'\u001b[39m\u001b[39msent_bps\u001b[39m\u001b[39m'\u001b[39m])\n\u001b[0;32m---> 30\u001b[0m         results[bandwidth][error][rtt][filesize]\u001b[39m.\u001b[39mappend(data[filesize][\u001b[39m'\u001b[39m\u001b[39msent_bps\u001b[39m\u001b[39m'\u001b[39m])\n\u001b[1;32m     31\u001b[0m     file\u001b[39m.\u001b[39mclose()\n\u001b[1;32m     33\u001b[0m \u001b[39mprint\u001b[39m(results)\n",
      "\u001b[0;31mTypeError\u001b[0m: list indices must be integers or slices, not str"
     ]
    }
   ],
   "source": [
    "import matplotlib.colors as mcolors\n",
    "error_percentages = [0,0.01,0.5,1] #that is in packet error\n",
    "file_sizes = [1e4,1e5,1e7]#in bytes\n",
    "bandwidths = [7e2,1e4,4e5]#in kbps\n",
    "delays = [1,10,50,100,250]#Added delay on the satellite link (=RTT/4)\n",
    "\n",
    "my_colours = list(mcolors.TABLEAU_COLORS.values())\n",
    "props = dict(boxstyle='round', facecolor='wheat', alpha=0.5)\n",
    "cca = \"Opensand emulation\"\n",
    "folder_path = \"./qpep_results/18.08.23/qpep_iperf/\"\n",
    "\n",
    "# Get a list of all files in the folder\n",
    "file_list = os.listdir(folder_path)\n",
    "# Create dictionary to store the average for each error, rtt, and run\n",
    "results = {}\n",
    "for i,filename in enumerate(file_list):\n",
    "    bandwidth = get_bandwidth(f'{folder_path}{filename}')\n",
    "    error = get_error(f'{folder_path}{filename}')\n",
    "    rtt = get_delay(f'{folder_path}{filename}')\n",
    "    if bandwidth not in results:\n",
    "        results[bandwidth] = {}\n",
    "    if error not in results[bandwidth]:\n",
    "        results[bandwidth][error] = {}\n",
    "    if rtt not in results[bandwidth][error]:\n",
    "        results[bandwidth][error][rtt] = []\n",
    "    file = open(f'{folder_path}{filename}','rb')\n",
    "    data = pickle.load(file)\n",
    "    for filesize in data.keys():\n",
    "        print(data[filesize]['sent_bps'])\n",
    "        results[bandwidth][error][rtt][filesize].append(data[filesize]['sent_bps'])\n",
    "    file.close()\n",
    "\n",
    "print(results)\n",
    "\n",
    "# fig, ax = plt.subplots(1,1,figsize=(6,4))\n",
    "# # sort the dictionary by error key\n",
    "# results[bw] = dict(sorted(results[bw].items()))\n",
    "# for j,error in enumerate(results[bw]):\n",
    "#     points = np.zeros((len(results[bw][error]),4))\n",
    "#     for i, rtt in enumerate(results[bw][error]):\n",
    "#         points[i,:] = rtt , np.average(results[bw][error][rtt])/mtu, np.min(results[bw][error][rtt])/mtu, np.max(results[bw][error][rtt])/mtu\n",
    "#     points = points[points[:,0].argsort()]\n",
    "#     ax.errorbar(points[:,0],points[:,1], yerr=[abs(points[:,1]-points[:,2]), abs(points[:,3]-points[:,1])], fmt='none', capsize=5,alpha=0.5, color=my_colours[j%len(my_colours)])\n",
    "#     #ax.errorbar(points[:,0],points[:,1], yerr=[points[:,1]*0.1, points[:,1]*0.08], fmt='none', capsize=5,alpha=0.5, color=my_colours[j%len(my_colours)])\n",
    "#     ax.plot(points[:,0],points[:,1],label=error,marker='x', markerfacecolor=\"none\", markersize = '4',linestyle='',color=my_colours[j%len(my_colours)])\n",
    "# ax.plot(points[:,0],bdw*points[:,0]/1000/mtu,linestyle='--',color='black', alpha = 0.5,label=\"BDP\")\n",
    "# ax.set_ylim(0, 35)\n",
    "# ax.text(0.40, 0.95, f\"{cca}, {bw}\", transform=ax.transAxes, fontsize=\"small\",\n",
    "#         verticalalignment='top', bbox=props)\n",
    "# ax.legend(title=\"Error rate\",loc='upper left',fontsize=\"small\", markerscale=0.6, ncols=2)\n",
    "# plt.tick_params(axis='both', direction='in',labelsize=\"small\", grid_alpha=0.5, grid_linestyle=':')\n",
    "# ax.grid()\n",
    "# ax.set_xlabel(\"RTT (ms)\")\n",
    "# ax.set_ylabel(\"cwnd (packets)\")\n",
    "# plt.show()"
   ]
  },
  {
   "cell_type": "code",
   "execution_count": null,
   "metadata": {},
   "outputs": [],
   "source": []
  }
 ],
 "metadata": {
  "kernelspec": {
   "display_name": "qpepcca",
   "language": "python",
   "name": "python3"
  },
  "language_info": {
   "codemirror_mode": {
    "name": "ipython",
    "version": 3
   },
   "file_extension": ".py",
   "mimetype": "text/x-python",
   "name": "python",
   "nbconvert_exporter": "python",
   "pygments_lexer": "ipython3",
   "version": "3.11.3"
  },
  "orig_nbformat": 4
 },
 "nbformat": 4,
 "nbformat_minor": 2
}
